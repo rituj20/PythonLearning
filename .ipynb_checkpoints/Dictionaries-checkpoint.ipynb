{
 "cells": [
  {
   "cell_type": "code",
   "execution_count": 22,
   "metadata": {},
   "outputs": [
    {
     "name": "stdout",
     "output_type": "stream",
     "text": [
      "{'hydrogen': {'number': 1, 'weight': 1.00794, 'symbol': 'H', 'is_noble_gas': 'No'}, 'helium': {'number': 2, 'weight': 4.002602, 'symbol': 'He', 'is_noble_gas': 'Yes'}}\n"
     ]
    }
   ],
   "source": [
    "elements = {'hydrogen': {'number': 1, 'weight': 1.00794, 'symbol': 'H'},\n",
    "            'helium': {'number': 2, 'weight': 4.002602, 'symbol': 'He'}}\n",
    "elements['hydrogen']['is_noble_gas'] = 'No'\n",
    "elements['helium']['is_noble_gas'] = 'Yes'\n",
    "print(elements)"
   ]
  },
  {
   "cell_type": "code",
   "execution_count": 16,
   "metadata": {},
   "outputs": [
    {
     "name": "stdout",
     "output_type": "stream",
     "text": [
      "2\n",
      "{'hydrogen': 1, 'helium': 2, 'Carbon': 3, 'lithium': 4}\n",
      "None\n",
      "None\n",
      "False\n"
     ]
    },
    {
     "data": {
      "text/plain": [
       "\"There's no such element!\""
      ]
     },
     "execution_count": 16,
     "metadata": {},
     "output_type": "execute_result"
    }
   ],
   "source": [
    "# it is a key value pair\n",
    "\n",
    "elements = {'hydrogen': 1,'helium':2,'Carbon': 3}\n",
    "print(elements['helium'])\n",
    "elements['lithium']= 4\n",
    "print(elements)\n",
    "print(elements.get('dehelium'))\n",
    "x = elements.get('dehelium')\n",
    "print (x)\n",
    "not_null= x is not None \n",
    "print (not_null)\n",
    "\n",
    "elements.get('kryptonite', 'There\\'s no such element!')\n",
    "\"There's no such element!\"\n"
   ]
  }
 ],
 "metadata": {
  "kernelspec": {
   "display_name": "Python 3",
   "language": "python",
   "name": "python3"
  },
  "language_info": {
   "codemirror_mode": {
    "name": "ipython",
    "version": 3
   },
   "file_extension": ".py",
   "mimetype": "text/x-python",
   "name": "python",
   "nbconvert_exporter": "python",
   "pygments_lexer": "ipython3",
   "version": "3.6.5"
  }
 },
 "nbformat": 4,
 "nbformat_minor": 2
}
