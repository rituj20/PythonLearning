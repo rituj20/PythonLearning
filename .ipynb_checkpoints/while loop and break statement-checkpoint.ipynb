{
 "cells": [
  {
   "cell_type": "code",
   "execution_count": 2,
   "metadata": {},
   "outputs": [
    {
     "name": "stdout",
     "output_type": "stream",
     "text": [
      "10\n"
     ]
    }
   ],
   "source": [
    "total=0\n",
    "j=1\n",
    "while j<5:\n",
    "    total+=j\n",
    "    j+=1\n",
    "print(total)\n",
    "    "
   ]
  },
  {
   "cell_type": "code",
   "execution_count": 8,
   "metadata": {},
   "outputs": [
    {
     "name": "stdout",
     "output_type": "stream",
     "text": [
      "5\n"
     ]
    }
   ],
   "source": [
    "given_list =[5,4,4,3,2,-1,-2,-5]\n",
    "total1=0\n",
    "i=0\n",
    "while given_list[i]>0:\n",
    "    total1+= given_list[i]\n",
    "    i+=1\n",
    "    \n",
    "print (total1)\n"
   ]
  },
  {
   "cell_type": "code",
   "execution_count": 6,
   "metadata": {},
   "outputs": [
    {
     "name": "stdout",
     "output_type": "stream",
     "text": [
      "18\n"
     ]
    }
   ],
   "source": [
    "given_list1 =[5,4,4,3,2,-1,-2,-5]\n",
    "total2=0\n",
    "for k in given_list1:\n",
    "    if (k>0):\n",
    "        total2+=k\n",
    "print(total2)\n",
    "\n"
   ]
  },
  {
   "cell_type": "code",
   "execution_count": 14,
   "metadata": {},
   "outputs": [
    {
     "name": "stdout",
     "output_type": "stream",
     "text": [
      "18\n"
     ]
    }
   ],
   "source": [
    "given_list2 =[5,4,4,3,2,-1,-2,-5]\n",
    "total3 =0\n",
    "n=0\n",
    "while True:\n",
    "    total3 += given_list2[n]\n",
    "    n +=1\n",
    "    if given_list2[n] <= 0:\n",
    "        break\n",
    "print (total3)"
   ]
  },
  {
   "cell_type": "code",
   "execution_count": null,
   "metadata": {},
   "outputs": [],
   "source": []
  },
  {
   "cell_type": "code",
   "execution_count": null,
   "metadata": {},
   "outputs": [],
   "source": []
  }
 ],
 "metadata": {
  "kernelspec": {
   "display_name": "Python 3",
   "language": "python",
   "name": "python3"
  },
  "language_info": {
   "codemirror_mode": {
    "name": "ipython",
    "version": 3
   },
   "file_extension": ".py",
   "mimetype": "text/x-python",
   "name": "python",
   "nbconvert_exporter": "python",
   "pygments_lexer": "ipython3",
   "version": "3.6.5"
  }
 },
 "nbformat": 4,
 "nbformat_minor": 2
}
