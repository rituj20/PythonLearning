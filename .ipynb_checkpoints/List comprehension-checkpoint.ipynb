{
 "cells": [
  {
   "cell_type": "code",
   "execution_count": 36,
   "metadata": {},
   "outputs": [
    {
     "name": "stdout",
     "output_type": "stream",
     "text": [
      "['Rick Sanchez', 'Summer Smith', 'Beth Smith']\n"
     ]
    }
   ],
   "source": [
    "#Use a list comprehension to create a list of names passed that only include those that scored at least 65.\n",
    "\n",
    "scores = {\n",
    "             \"Rick Sanchez\": 70,\n",
    "             \"Morty Smith\": 35,\n",
    "             \"Summer Smith\": 82,\n",
    "             \"Jerry Smith\": 23,\n",
    "             \"Beth Smith\": 98\n",
    "          }\n",
    "\n",
    "a= [key for key,value in scores.items() if value >=65  ]\n",
    "print (a)\n"
   ]
  },
  {
   "cell_type": "code",
   "execution_count": 17,
   "metadata": {},
   "outputs": [
    {
     "name": "stdout",
     "output_type": "stream",
     "text": [
      "[3, 6, 9, 12, 15, 18, 21, 24, 27, 30, 33, 36, 39, 42, 45, 48, 51, 54, 57, 60]\n"
     ]
    }
   ],
   "source": [
    "#Use a list comprehension to create a list multiples_3 containing the first 20 multiples of 3.\n",
    "\n",
    "multiples_3 = [3*x for x in range(1,21)]\n",
    "print(multiples_3)"
   ]
  },
  {
   "cell_type": "code",
   "execution_count": 14,
   "metadata": {},
   "outputs": [
    {
     "name": "stdout",
     "output_type": "stream",
     "text": [
      "['rick', 'morty', 'summer', 'jerry', 'beth']\n"
     ]
    }
   ],
   "source": [
    "#split name and just display first name in lower case using list comprehension\n",
    "\n",
    "names = [\"Rick Sanchez\", \"Morty Smith\", \"Summer Smith\", \"Jerry Smith\", \"Beth Smith\"]\n",
    "\n",
    "first_names = [name.split()[0].lower() for name in names]\n",
    "print(first_names)"
   ]
  },
  {
   "cell_type": "code",
   "execution_count": 12,
   "metadata": {},
   "outputs": [
    {
     "name": "stdout",
     "output_type": "stream",
     "text": [
      "[0, 4, 4, 6, 16, 8, 36, 10, 64]\n"
     ]
    }
   ],
   "source": [
    "squares = [x**2 if x % 2 == 0 else x + 3 for x in range(9)]\n",
    "print(squares)"
   ]
  },
  {
   "cell_type": "code",
   "execution_count": 10,
   "metadata": {},
   "outputs": [
    {
     "name": "stdout",
     "output_type": "stream",
     "text": [
      "[4, 16, 36, 64, 100]\n"
     ]
    }
   ],
   "source": [
    "#print squares of first 10 even  numbers using list comprehension\n",
    "\n",
    "a= [i**2 for i in range(1,11) if i%2==0]\n",
    "\n",
    "print (a)"
   ]
  },
  {
   "cell_type": "code",
   "execution_count": 1,
   "metadata": {},
   "outputs": [
    {
     "name": "stdout",
     "output_type": "stream",
     "text": [
      "[2, 4, 6, 8, 10] [4, 8, 12, 16, 20]\n"
     ]
    }
   ],
   "source": [
    "# method 2 called list comprehension\n",
    "a = [2,4,6,8,10]\n",
    "\n",
    "c= [a1*2 for a1 in a]\n",
    "\n",
    "print (a,c)"
   ]
  },
  {
   "cell_type": "code",
   "execution_count": 2,
   "metadata": {},
   "outputs": [
    {
     "name": "stdout",
     "output_type": "stream",
     "text": [
      "[4, 8, 12, 16, 20]\n"
     ]
    }
   ],
   "source": [
    "# method 1\n",
    "\n",
    "a = [2,4,6,8,10]\n",
    "# need another list c which has all elements as double of a list\n",
    "\n",
    "c=[]\n",
    "for i in a:\n",
    "    c.append(i*2)\n",
    "    \n",
    "print (c)"
   ]
  },
  {
   "cell_type": "code",
   "execution_count": 4,
   "metadata": {},
   "outputs": [
    {
     "name": "stdout",
     "output_type": "stream",
     "text": [
      "[4, 8, 12, 16, 20]\n"
     ]
    }
   ],
   "source": [
    "# another way\n",
    "\n",
    "d=[x*2 for x in a]\n",
    "\n",
    "print(d)"
   ]
  },
  {
   "cell_type": "code",
   "execution_count": 16,
   "metadata": {},
   "outputs": [
    {
     "name": "stdout",
     "output_type": "stream",
     "text": [
      "[1, 4, 9, 16, 25, 36]\n"
     ]
    }
   ],
   "source": [
    "#[1,4,9,16,25,36]\n",
    "\n",
    "e =[x**2 for x in range(1,7)]\n",
    "\n",
    "print(e)"
   ]
  },
  {
   "cell_type": "code",
   "execution_count": 13,
   "metadata": {},
   "outputs": [
    {
     "name": "stdout",
     "output_type": "stream",
     "text": [
      "[36, 25, 16, 9, 4, 1]\n"
     ]
    }
   ],
   "source": [
    "#[36,25,16,9,4,1]\n",
    "\n",
    "l= [x**2 for x in range(6,0,-1)]\n",
    "print(l)\n"
   ]
  },
  {
   "cell_type": "code",
   "execution_count": null,
   "metadata": {},
   "outputs": [],
   "source": []
  }
 ],
 "metadata": {
  "kernelspec": {
   "display_name": "Python 3",
   "language": "python",
   "name": "python3"
  },
  "language_info": {
   "codemirror_mode": {
    "name": "ipython",
    "version": 3
   },
   "file_extension": ".py",
   "mimetype": "text/x-python",
   "name": "python",
   "nbconvert_exporter": "python",
   "pygments_lexer": "ipython3",
   "version": "3.6.5"
  }
 },
 "nbformat": 4,
 "nbformat_minor": 2
}
