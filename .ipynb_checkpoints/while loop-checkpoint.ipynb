{
 "cells": [
  {
   "cell_type": "code",
   "execution_count": 14,
   "metadata": {},
   "outputs": [
    {
     "name": "stdout",
     "output_type": "stream",
     "text": [
      "81\n"
     ]
    }
   ],
   "source": [
    "# nearest square\n",
    "limit = 99\n",
    "i=1\n",
    "# write your while loop here\n",
    "while  (i**2)<= limit:\n",
    "    i= i+1\n",
    "nearest_square = (i-1)**2\n",
    "\n",
    "\n",
    "print(nearest_square)"
   ]
  },
  {
   "cell_type": "code",
   "execution_count": 11,
   "metadata": {},
   "outputs": [
    {
     "name": "stdout",
     "output_type": "stream",
     "text": [
      "[12, 8]\n"
     ]
    }
   ],
   "source": [
    "card_deck = [4, 11, 8, 5, 13, 2, 8, 12]\n",
    "hand = []\n",
    "\n",
    "while sum(hand)<=17:\n",
    "    hand.append(card_deck.pop())\n",
    "print(hand)"
   ]
  },
  {
   "cell_type": "code",
   "execution_count": 13,
   "metadata": {},
   "outputs": [
    {
     "name": "stdout",
     "output_type": "stream",
     "text": [
      "120\n"
     ]
    }
   ],
   "source": [
    "#factorial of a number\n",
    "\n",
    "number = 5   \n",
    "\n",
    "# start with our product equal to number\n",
    "product = number\n",
    "\n",
    "# write your while loop here\n",
    "while number>1:\n",
    "    number-=1\n",
    "    product=product*number\n",
    "    \n",
    "    # decrement number with each iteration until it reaches 1\n",
    "\n",
    "    # multiply the product so far by the current number\n",
    "\n",
    "\n",
    "# print the factorial of number\n",
    "print(product)"
   ]
  },
  {
   "cell_type": "code",
   "execution_count": null,
   "metadata": {},
   "outputs": [],
   "source": [
    "# number to find the factorial of using for loop\n",
    "number = 6   \n",
    "\n",
    "# start with our product equal to number\n",
    "product = number\n",
    "\n",
    "# write your for loop here\n",
    "for iteration in range(1,number):\n",
    "    product=iteration*product\n",
    "\n",
    "\n",
    "\n",
    "# print the factorial of number\n",
    "print(product)"
   ]
  }
 ],
 "metadata": {
  "kernelspec": {
   "display_name": "Python 3",
   "language": "python",
   "name": "python3"
  },
  "language_info": {
   "codemirror_mode": {
    "name": "ipython",
    "version": 3
   },
   "file_extension": ".py",
   "mimetype": "text/x-python",
   "name": "python",
   "nbconvert_exporter": "python",
   "pygments_lexer": "ipython3",
   "version": "3.6.5"
  }
 },
 "nbformat": 4,
 "nbformat_minor": 2
}
