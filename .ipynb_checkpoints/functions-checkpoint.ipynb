{
 "cells": [
  {
   "cell_type": "code",
   "execution_count": 2,
   "metadata": {},
   "outputs": [
    {
     "name": "stdout",
     "output_type": "stream",
     "text": [
      "785.3975 785.3975 1539.3791\n"
     ]
    }
   ],
   "source": [
    "# Default arguments in a function, if an arguments is not passed it will consider default value\n",
    "\n",
    "def cylinder_volume(height, radius=5):\n",
    "    pi = 3.14159\n",
    "    return height * pi * radius ** 2\n",
    "\n",
    "a=cylinder_volume(10,5)\n",
    "b=cylinder_volume(10)\n",
    "c=cylinder_volume(10,7)\n",
    "\n",
    "print(a,b,c)"
   ]
  },
  {
   "cell_type": "code",
   "execution_count": 25,
   "metadata": {},
   "outputs": [
    {
     "name": "stdout",
     "output_type": "stream",
     "text": [
      "Ritu\n",
      "BMI: \n",
      "12.5\n",
      "Ritu is overweight\n",
      "Ani\n",
      "BMI: \n",
      "11.2\n",
      "Ani is normal bmi\n"
     ]
    }
   ],
   "source": [
    "\n",
    "def bmifunction(name,height,weight):\n",
    "    bmi = weight /(height **2)\n",
    "    print(name)\n",
    "    print (\"BMI: \" )\n",
    "    print (bmi)\n",
    "    if (bmi < 12):\n",
    "        print(name + ' is '+\"normal bmi\")\n",
    "        return name + \" is normal bmi\"\n",
    "    else:\n",
    "        print(name + ' is '+ \"overweight\")\n",
    "        return name +  \" is overweight\"\n",
    "    \n",
    "Name1 = 'Ritu'\n",
    "Height1= 2\n",
    "Weight1=50\n",
    "\n",
    "Name2 = 'Ani'\n",
    "Height2 = 2.5\n",
    "Weight2 =70\n",
    "\n",
    "    \n",
    "A= bmifunction(Name1,Height1,Weight1)\n",
    "\n",
    "B= bmifunction(Name2,Height2,Weight2)  \n",
    "        \n",
    "\n"
   ]
  },
  {
   "cell_type": "code",
   "execution_count": 24,
   "metadata": {},
   "outputs": [
    {
     "name": "stdout",
     "output_type": "stream",
     "text": [
      "Ritu is overweight\n",
      "Ani is normal bmi\n"
     ]
    }
   ],
   "source": [
    "print(A)\n",
    "print(B)"
   ]
  },
  {
   "cell_type": "code",
   "execution_count": null,
   "metadata": {},
   "outputs": [],
   "source": []
  }
 ],
 "metadata": {
  "kernelspec": {
   "display_name": "Python 3",
   "language": "python",
   "name": "python3"
  },
  "language_info": {
   "codemirror_mode": {
    "name": "ipython",
    "version": 3
   },
   "file_extension": ".py",
   "mimetype": "text/x-python",
   "name": "python",
   "nbconvert_exporter": "python",
   "pygments_lexer": "ipython3",
   "version": "3.6.5"
  }
 },
 "nbformat": 4,
 "nbformat_minor": 2
}
