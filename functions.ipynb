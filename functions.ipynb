{
 "cells": [
  {
   "cell_type": "code",
   "execution_count": 31,
   "metadata": {},
   "outputs": [
    {
     "name": "stdout",
     "output_type": "stream",
     "text": [
      "12\n"
     ]
    }
   ],
   "source": [
    "egg_count = 0\n",
    "\n",
    "def buy_eggs(count):\n",
    "    return count + 12  # purchase a dozen eggs\n",
    "\n",
    "egg_count = buy_eggs(egg_count)\n",
    "print (egg_count)"
   ]
  },
  {
   "cell_type": "code",
   "execution_count": 25,
   "metadata": {},
   "outputs": [
    {
     "ename": "UnboundLocalError",
     "evalue": "local variable 'egg_count' referenced before assignment",
     "output_type": "error",
     "traceback": [
      "\u001b[0;31m---------------------------------------------------------------------------\u001b[0m",
      "\u001b[0;31mUnboundLocalError\u001b[0m                         Traceback (most recent call last)",
      "\u001b[0;32m<ipython-input-25-32dca0f4d031>\u001b[0m in \u001b[0;36m<module>\u001b[0;34m()\u001b[0m\n\u001b[1;32m      4\u001b[0m     \u001b[0megg_count\u001b[0m \u001b[0;34m+=\u001b[0m \u001b[0;36m12\u001b[0m \u001b[0;31m# purchase a dozen eggs\u001b[0m\u001b[0;34m\u001b[0m\u001b[0m\n\u001b[1;32m      5\u001b[0m \u001b[0;34m\u001b[0m\u001b[0m\n\u001b[0;32m----> 6\u001b[0;31m \u001b[0mbuy_eggs\u001b[0m\u001b[0;34m(\u001b[0m\u001b[0;34m)\u001b[0m\u001b[0;34m\u001b[0m\u001b[0m\n\u001b[0m",
      "\u001b[0;32m<ipython-input-25-32dca0f4d031>\u001b[0m in \u001b[0;36mbuy_eggs\u001b[0;34m()\u001b[0m\n\u001b[1;32m      2\u001b[0m \u001b[0;34m\u001b[0m\u001b[0m\n\u001b[1;32m      3\u001b[0m \u001b[0;32mdef\u001b[0m \u001b[0mbuy_eggs\u001b[0m\u001b[0;34m(\u001b[0m\u001b[0;34m)\u001b[0m\u001b[0;34m:\u001b[0m\u001b[0;34m\u001b[0m\u001b[0m\n\u001b[0;32m----> 4\u001b[0;31m     \u001b[0megg_count\u001b[0m \u001b[0;34m+=\u001b[0m \u001b[0;36m12\u001b[0m \u001b[0;31m# purchase a dozen eggs\u001b[0m\u001b[0;34m\u001b[0m\u001b[0m\n\u001b[0m\u001b[1;32m      5\u001b[0m \u001b[0;34m\u001b[0m\u001b[0m\n\u001b[1;32m      6\u001b[0m \u001b[0mbuy_eggs\u001b[0m\u001b[0;34m(\u001b[0m\u001b[0;34m)\u001b[0m\u001b[0;34m\u001b[0m\u001b[0m\n",
      "\u001b[0;31mUnboundLocalError\u001b[0m: local variable 'egg_count' referenced before assignment"
     ]
    }
   ],
   "source": [
    "egg_count = 0\n",
    "\n",
    "def buy_eggs():\n",
    "    egg_count += 12 # purchase a dozen eggs\n",
    "\n",
    "buy_eggs()"
   ]
  },
  {
   "cell_type": "code",
   "execution_count": 24,
   "metadata": {},
   "outputs": [
    {
     "name": "stdout",
     "output_type": "stream",
     "text": [
      "2 week(s) and 5 Day(s)\n"
     ]
    }
   ],
   "source": [
    "#Write a function named readable_timedelta. The function should take one argument, an integer days, and \n",
    "#return a string that says how many weeks and days that is.\n",
    "\n",
    "def readable_timedelta(days):\n",
    "    weeks = (days//7) \n",
    "    nod = (days%7)\n",
    "    return  (\"{} week(s) and {} Day(s)\".format(weeks,nod))\n",
    "   \n",
    "    \n",
    "a= readable_timedelta(19)\n",
    "print (a)\n",
    "\n",
    "#print(\"{} weeks and {} Days\".format(days//7,days%7))"
   ]
  },
  {
   "cell_type": "code",
   "execution_count": 6,
   "metadata": {},
   "outputs": [
    {
     "name": "stdout",
     "output_type": "stream",
     "text": [
      "7123.690280065897\n"
     ]
    }
   ],
   "source": [
    "#Write a function named population_density that takes two arguments, population and land_area, \n",
    "#and returns a population density calculated from those values\n",
    "\n",
    "def population_density(population,land_area):\n",
    "    return population/land_area\n",
    "\n",
    "a= population_density(864816, 121.4)\n",
    "print(a)"
   ]
  },
  {
   "cell_type": "code",
   "execution_count": 2,
   "metadata": {},
   "outputs": [
    {
     "name": "stdout",
     "output_type": "stream",
     "text": [
      "785.3975 785.3975 1539.3791\n"
     ]
    }
   ],
   "source": [
    "# Default arguments in a function, if an arguments is not passed it will consider default value\n",
    "\n",
    "def cylinder_volume(height, radius=5):\n",
    "    pi = 3.14159\n",
    "    return height * pi * radius ** 2\n",
    "\n",
    "a=cylinder_volume(10,5)\n",
    "b=cylinder_volume(10)\n",
    "c=cylinder_volume(10,7)\n",
    "\n",
    "print(a,b,c)"
   ]
  },
  {
   "cell_type": "code",
   "execution_count": 25,
   "metadata": {},
   "outputs": [
    {
     "name": "stdout",
     "output_type": "stream",
     "text": [
      "Ritu\n",
      "BMI: \n",
      "12.5\n",
      "Ritu is overweight\n",
      "Ani\n",
      "BMI: \n",
      "11.2\n",
      "Ani is normal bmi\n"
     ]
    }
   ],
   "source": [
    "\n",
    "def bmifunction(name,height,weight):\n",
    "    bmi = weight /(height **2)\n",
    "    print(name)\n",
    "    print (\"BMI: \" )\n",
    "    print (bmi)\n",
    "    if (bmi < 12):\n",
    "        print(name + ' is '+\"normal bmi\")\n",
    "        return name + \" is normal bmi\"\n",
    "    else:\n",
    "        print(name + ' is '+ \"overweight\")\n",
    "        return name +  \" is overweight\"\n",
    "    \n",
    "Name1 = 'Ritu'\n",
    "Height1= 2\n",
    "Weight1=50\n",
    "\n",
    "Name2 = 'Ani'\n",
    "Height2 = 2.5\n",
    "Weight2 =70\n",
    "\n",
    "    \n",
    "A= bmifunction(Name1,Height1,Weight1)\n",
    "\n",
    "B= bmifunction(Name2,Height2,Weight2)  \n",
    "        \n",
    "\n"
   ]
  },
  {
   "cell_type": "code",
   "execution_count": 24,
   "metadata": {},
   "outputs": [
    {
     "name": "stdout",
     "output_type": "stream",
     "text": [
      "Ritu is overweight\n",
      "Ani is normal bmi\n"
     ]
    }
   ],
   "source": [
    "print(A)\n",
    "print(B)"
   ]
  },
  {
   "cell_type": "code",
   "execution_count": null,
   "metadata": {},
   "outputs": [],
   "source": []
  }
 ],
 "metadata": {
  "kernelspec": {
   "display_name": "Python 3",
   "language": "python",
   "name": "python3"
  },
  "language_info": {
   "codemirror_mode": {
    "name": "ipython",
    "version": 3
   },
   "file_extension": ".py",
   "mimetype": "text/x-python",
   "name": "python",
   "nbconvert_exporter": "python",
   "pygments_lexer": "ipython3",
   "version": "3.6.5"
  }
 },
 "nbformat": 4,
 "nbformat_minor": 2
}
