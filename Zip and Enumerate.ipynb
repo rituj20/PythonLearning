{
 "cells": [
  {
   "cell_type": "code",
   "execution_count": 2,
   "metadata": {},
   "outputs": [
    {
     "data": {
      "text/plain": [
       "[('a', 1), ('b', 2), ('c', 3)]"
      ]
     },
     "execution_count": 2,
     "metadata": {},
     "output_type": "execute_result"
    }
   ],
   "source": [
    "list(zip(['a', 'b', 'c'], [1, 2, 3]))"
   ]
  },
  {
   "cell_type": "code",
   "execution_count": 11,
   "metadata": {},
   "outputs": [
    {
     "name": "stdout",
     "output_type": "stream",
     "text": [
      "['F: 23 677 4', 'J: 53 233 16', 'A: 2 405 -6', 'Q: -12 433 -42', 'Y: 95 905 3', 'B: 103 376 -6', 'W: 14 432 23', 'X: -5 445 -1']\n",
      "F: 23 677 4\n",
      "J: 53 233 16\n",
      "A: 2 405 -6\n",
      "Q: -12 433 -42\n",
      "Y: 95 905 3\n",
      "B: 103 376 -6\n",
      "W: 14 432 23\n",
      "X: -5 445 -1\n"
     ]
    }
   ],
   "source": [
    "x_coord = [23, 53, 2, -12, 95, 103, 14, -5]\n",
    "y_coord = [677, 233, 405, 433, 905, 376, 432, 445]\n",
    "z_coord = [4, 16, -6, -42, 3, -6, 23, -1]\n",
    "labels = [\"F\", \"J\", \"A\", \"Q\", \"Y\", \"B\", \"W\", \"X\"]\n",
    "points=[]\n",
    "\n",
    "for point in zip(labels,x_coord,y_coord,z_coord):#zip\n",
    "     points.append(\"{}: {} {} {}\".format(*point)) #unzip\n",
    "    \n",
    "print (points)\n",
    "\n",
    "for point in points:\n",
    "    print (point)"
   ]
  },
  {
   "cell_type": "code",
   "execution_count": null,
   "metadata": {},
   "outputs": [],
   "source": []
  }
 ],
 "metadata": {
  "kernelspec": {
   "display_name": "Python 3",
   "language": "python",
   "name": "python3"
  },
  "language_info": {
   "codemirror_mode": {
    "name": "ipython",
    "version": 3
   },
   "file_extension": ".py",
   "mimetype": "text/x-python",
   "name": "python",
   "nbconvert_exporter": "python",
   "pygments_lexer": "ipython3",
   "version": "3.6.5"
  }
 },
 "nbformat": 4,
 "nbformat_minor": 2
}
