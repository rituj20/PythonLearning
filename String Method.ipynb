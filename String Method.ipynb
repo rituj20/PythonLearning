{
 "cells": [
  {
   "cell_type": "code",
   "execution_count": 80,
   "metadata": {},
   "outputs": [
    {
     "name": "stdout",
     "output_type": "stream",
     "text": [
      "['ab c', '', 'de fg', 'kl']\n",
      "['ab c\\n', '\\n', 'de fg\\r', 'kl\\r\\n']\n",
      "wILLIAM rABINSON\n",
      "William Rabinson\n",
      "They'Re Bill'S Friends From The Uk\n"
     ]
    }
   ],
   "source": [
    "print('ab c\\n\\nde fg\\rkl\\r\\n'.splitlines())\n",
    "print('ab c\\n\\nde fg\\rkl\\r\\n'.splitlines(keepends=True))\n",
    "print(\"William Rabinson\".swapcase())\n",
    "print(\"William Rabinson\".swapcase().swapcase())\n",
    "print(\"they're bill's friends from the UK\".title())"
   ]
  },
  {
   "cell_type": "code",
   "execution_count": 73,
   "metadata": {},
   "outputs": [
    {
     "name": "stdout",
     "output_type": "stream",
     "text": [
      "my fullname is Ritu jain\n",
      "my fullname is jain Ritu\n",
      "wallaam rabinson\n",
      "6\n",
      "-1\n",
      "9\n",
      "william rabinson\n",
      "('ab', 'd', 'hcvgfjkjdegddnljd')\n",
      "('abdhcvgfjkjdegddnlj', 'd', '')\n",
      "['william', 'rabinson']\n",
      "['will.iam rabi', 'nson']\n"
     ]
    }
   ],
   "source": [
    "givename = \"Ritu\"\n",
    "lastname =\"jain\"\n",
    "print(\"my fullname is {} {}\".format(givename,lastname))\n",
    "print(\"my fullname is {1} {0}\".format(givename,lastname))\n",
    "print(\"william rabinson\".replace('i','a',2))\n",
    "print(\"william rabinson\".rfind('m'))\n",
    "print(\"william rabinson\".rfind('k'))\n",
    "print(\"william rabinson\".rindex('a'))\n",
    "#print(\"william rabinson\".rindex('k'))\n",
    "print(\"william rabinson\".rjust(1))\n",
    "print('abdhcvgfjkjdegddnljd'.partition('d'))\n",
    "print('abdhcvgfjkjdegddnljd'.rpartition('d'))\n",
    "print(\"william rabinson\".rsplit(sep= None,maxsplit =-1))# rsplit is spilitting from right\n",
    "print(\"will.iam rabi.nson\".rsplit(sep='.', maxsplit=1))"
   ]
  },
  {
   "cell_type": "code",
   "execution_count": 1,
   "metadata": {},
   "outputs": [
    {
     "name": "stdout",
     "output_type": "stream",
     "text": [
      "Ritu Jain\n"
     ]
    }
   ],
   "source": [
    "#Methods actually are functions that are called using dot notation.\n",
    "print(\"ritu jain\".title())"
   ]
  },
  {
   "cell_type": "code",
   "execution_count": 3,
   "metadata": {},
   "outputs": [
    {
     "name": "stdout",
     "output_type": "stream",
     "text": [
      "True\n"
     ]
    }
   ],
   "source": [
    "fullname = \"ritu jain\"\n",
    "print(fullname.islower())"
   ]
  },
  {
   "cell_type": "code",
   "execution_count": 5,
   "metadata": {},
   "outputs": [
    {
     "name": "stdout",
     "output_type": "stream",
     "text": [
      "4\n"
     ]
    }
   ],
   "source": [
    "print(\"one fish. two fish,three fish,blue fish\".count('fish'))"
   ]
  },
  {
   "cell_type": "code",
   "execution_count": 28,
   "metadata": {},
   "outputs": [
    {
     "name": "stdout",
     "output_type": "stream",
     "text": [
      "9\n",
      "1\n",
      "False\n",
      "True\n",
      "kaabaal\n"
     ]
    }
   ],
   "source": [
    "print(\"aabaababa  ababa\".count('a'))\n",
    "print(\"babaababa  ababa\".index('a'))\n",
    "print(\"babaababa  ababa\".isspace())\n",
    "print(\"babaababa  ababb\".endswith('b'))\n",
    "print(\"aabaa\".join('kl'))"
   ]
  },
  {
   "cell_type": "code",
   "execution_count": 8,
   "metadata": {},
   "outputs": [
    {
     "name": "stdout",
     "output_type": "stream",
     "text": [
      "0\n"
     ]
    }
   ],
   "source": [
    "print(\"aabaababa  ababa\".find('a'))"
   ]
  },
  {
   "cell_type": "code",
   "execution_count": 32,
   "metadata": {},
   "outputs": [
    {
     "data": {
      "text/plain": [
       "('ab', 'd', 'hcvgfjkjdegddnljd')"
      ]
     },
     "execution_count": 32,
     "metadata": {},
     "output_type": "execute_result"
    }
   ],
   "source": [
    "'   spacious   '.lstrip()\n",
    "'www.example.com'.lstrip('cmowz.')\n",
    "'abdhcvgfjkjdegddnljd'.partition('d')"
   ]
  },
  {
   "cell_type": "code",
   "execution_count": null,
   "metadata": {},
   "outputs": [],
   "source": []
  }
 ],
 "metadata": {
  "kernelspec": {
   "display_name": "Python 3",
   "language": "python",
   "name": "python3"
  },
  "language_info": {
   "codemirror_mode": {
    "name": "ipython",
    "version": 3
   },
   "file_extension": ".py",
   "mimetype": "text/x-python",
   "name": "python",
   "nbconvert_exporter": "python",
   "pygments_lexer": "ipython3",
   "version": "3.6.5"
  }
 },
 "nbformat": 4,
 "nbformat_minor": 2
}
