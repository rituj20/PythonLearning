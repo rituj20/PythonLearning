{
 "cells": [
  {
   "cell_type": "code",
   "execution_count": 29,
   "metadata": {},
   "outputs": [],
   "source": [
    "class Robot: # class Robot\n",
    "    def __init__(self,n,c,w): # constructer defined using init\n",
    "        self.name = n\n",
    "        self.color = c\n",
    "        self.weight = w\n",
    "        \n",
    "    def introduce_self(self): # function\n",
    "        print(\"my name is \"+ self.name)\n",
    "        \n",
    "r1 = Robot(\"Tom\",\"Red\",30)\n",
    "r2 = Robot(\"Jerry\",\"Red\",40)\n",
    "    \n",
    "\n",
    "class Person: # another class Person defined\n",
    "    def __init__(self,n,p,i):\n",
    "        self.name = n\n",
    "        self.personality = p\n",
    "        self.is_sitting = i\n",
    "        \n",
    "    def sitdown(self):\n",
    "        self.is_sitting = True\n",
    "       # if(self.is_sitting == True):\n",
    "          #  print (self.name + \" is sitting\")\n",
    "        \n",
    "    def standup(self):\n",
    "        self.is_sitting = False\n",
    "        #print (self.name + \"is Standing\")\n",
    "        \n",
    "p1 = Person(\"alice\",\"aggressive\",True)\n",
    "p2 = Person(\"Brat\",\"talkative\",False)    "
   ]
  },
  {
   "cell_type": "code",
   "execution_count": 18,
   "metadata": {},
   "outputs": [
    {
     "name": "stdout",
     "output_type": "stream",
     "text": [
      "my name is Jerry\n"
     ]
    }
   ],
   "source": [
    "p1.robot_owned = r2\n",
    "p2.robot_owned = r1\n",
    "p1.robot_owned.introduce_self()"
   ]
  },
  {
   "cell_type": "code",
   "execution_count": 30,
   "metadata": {},
   "outputs": [
    {
     "name": "stdout",
     "output_type": "stream",
     "text": [
      "alice is sitting\n"
     ]
    }
   ],
   "source": [
    "p1.sitdown()"
   ]
  },
  {
   "cell_type": "code",
   "execution_count": null,
   "metadata": {},
   "outputs": [],
   "source": []
  }
 ],
 "metadata": {
  "kernelspec": {
   "display_name": "Python 3",
   "language": "python",
   "name": "python3"
  },
  "language_info": {
   "codemirror_mode": {
    "name": "ipython",
    "version": 3
   },
   "file_extension": ".py",
   "mimetype": "text/x-python",
   "name": "python",
   "nbconvert_exporter": "python",
   "pygments_lexer": "ipython3",
   "version": "3.6.5"
  }
 },
 "nbformat": 4,
 "nbformat_minor": 2
}
