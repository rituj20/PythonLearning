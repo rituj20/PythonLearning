{
 "cells": [
  {
   "cell_type": "code",
   "execution_count": 11,
   "metadata": {},
   "outputs": [
    {
     "name": "stdout",
     "output_type": "stream",
     "text": [
      "calling show_plus_ten function\n",
      "15\n",
      "Done calling\n",
      "This function returned: None\n",
      "\n",
      "calling add_ten function\n",
      "Done calling\n",
      "This function returned: 15\n"
     ]
    }
   ],
   "source": [
    "# this prints something, but does not return anything\n",
    "def show_plus_ten(num):\n",
    "    print(num + 10)\n",
    "\n",
    "# this returns something\n",
    "def add_ten(num):\n",
    "    return(num + 10)\n",
    "\n",
    "print(\"calling show_plus_ten function\")\n",
    "return_value_1 = show_plus_ten(5)\n",
    "print('Done calling')\n",
    "print('This function returned: {}'.format(return_value_1))\n",
    "\n",
    "print(\"\\ncalling add_ten function\")\n",
    "return_value_2=add_ten(5)\n",
    "print('Done calling')\n",
    "print('This function returned: {}'.format(return_value_2))\n"
   ]
  },
  {
   "cell_type": "code",
   "execution_count": null,
   "metadata": {},
   "outputs": [],
   "source": []
  }
 ],
 "metadata": {
  "kernelspec": {
   "display_name": "Python 3",
   "language": "python",
   "name": "python3"
  },
  "language_info": {
   "codemirror_mode": {
    "name": "ipython",
    "version": 3
   },
   "file_extension": ".py",
   "mimetype": "text/x-python",
   "name": "python",
   "nbconvert_exporter": "python",
   "pygments_lexer": "ipython3",
   "version": "3.6.5"
  }
 },
 "nbformat": 4,
 "nbformat_minor": 2
}
