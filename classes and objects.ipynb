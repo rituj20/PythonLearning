{
 "cells": [
  {
   "cell_type": "code",
   "execution_count": null,
   "metadata": {},
   "outputs": [],
   "source": [
    "class Robot:\n",
    "    def introduce_self(self):\n",
    "        print(\"my name is \"+ self.name)"
   ]
  },
  {
   "cell_type": "code",
   "execution_count": null,
   "metadata": {},
   "outputs": [],
   "source": [
    "r1 = Robot() # object created for class Robot\n",
    "r1.name =\"Tom\"\n",
    "r1.color =\"Red\"\n",
    "r1.weight = 30\n",
    "\n",
    "r2= Robot()\n",
    "r2.name =\"Jerry\"\n",
    "r2.color = \"Red\"\n",
    "r2.weight = 45\n"
   ]
  },
  {
   "cell_type": "code",
   "execution_count": null,
   "metadata": {},
   "outputs": [],
   "source": [
    "r1.introduce_self() # called function inside class using object created for the class\n",
    "r2.introduce_self()"
   ]
  },
  {
   "cell_type": "code",
   "execution_count": 6,
   "metadata": {},
   "outputs": [
    {
     "name": "stdout",
     "output_type": "stream",
     "text": [
      "my name is Tom\n",
      "my name is Jerry\n"
     ]
    }
   ],
   "source": [
    "# same program using constructer\n",
    "class Robot: # class Robot\n",
    "    def __init__(self,name,color,weight): # constructer defined using init\n",
    "        self.name = name\n",
    "        self.color = color\n",
    "        self.weight = weight\n",
    "        \n",
    "    def introduce_self(self): # function\n",
    "        print(\"my name is \"+ self.name)\n",
    "        \n",
    "r3 = Robot(\"Tom\",\"Red\",30)\n",
    "r4 = Robot(\"Jerry\",\"Red\",40)\n",
    "    \n",
    "r3.introduce_self() # called function inside class using object created for the class\n",
    "r4.introduce_self()"
   ]
  },
  {
   "cell_type": "code",
   "execution_count": null,
   "metadata": {},
   "outputs": [],
   "source": []
  }
 ],
 "metadata": {
  "kernelspec": {
   "display_name": "Python 3",
   "language": "python",
   "name": "python3"
  },
  "language_info": {
   "codemirror_mode": {
    "name": "ipython",
    "version": 3
   },
   "file_extension": ".py",
   "mimetype": "text/x-python",
   "name": "python",
   "nbconvert_exporter": "python",
   "pygments_lexer": "ipython3",
   "version": "3.6.5"
  }
 },
 "nbformat": 4,
 "nbformat_minor": 2
}
