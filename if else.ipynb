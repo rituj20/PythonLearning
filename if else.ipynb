{
 "cells": [
  {
   "cell_type": "code",
   "execution_count": 4,
   "metadata": {},
   "outputs": [
    {
     "name": "stdout",
     "output_type": "stream",
     "text": [
      "enter number\n",
      "190\n",
      "Congratulations! You won a penguin!\n"
     ]
    }
   ],
   "source": [
    "print(\"enter number\")\n",
    "points = int(input())  # use this input to make your submission\n",
    "\n",
    "# write your if statement here\n",
    "if points in range(1,51):\n",
    "    print(\"Congratulations! You won a wooden rabbit!\")\n",
    "elif points in range(51,151):\n",
    "    print(\"Oh dear, no prize this time.\")\n",
    "elif points in range(151,181):\n",
    "    print(\"Congratulations! You won a wafer-thin mint!\")\n",
    "elif points in range(181,201):\n",
    "    print(\"Congratulations! You won a penguin!\")\n",
    "else:\n",
    "    print(\"not found\")\n",
    "\n"
   ]
  },
  {
   "cell_type": "code",
   "execution_count": null,
   "metadata": {},
   "outputs": [],
   "source": [
    "n = 15\n",
    "if n%2==0:\n",
    "    print(\"even\")\n",
    "else:\n",
    "    print(\"odd\")\n",
    "\n",
    "print(n)"
   ]
  },
  {
   "cell_type": "code",
   "execution_count": null,
   "metadata": {},
   "outputs": [],
   "source": [
    "a=3\n",
    "b=2\n",
    "if a<b :\n",
    "    print(\"a is less than b\")\n",
    "    print (\"yaa\")\n",
    "elif a == b:\n",
    "    print(\"a. is equal to b\")        \n",
    "else:    \n",
    "    print(\"its not\")"
   ]
  },
  {
   "cell_type": "code",
   "execution_count": null,
   "metadata": {},
   "outputs": [],
   "source": []
  }
 ],
 "metadata": {
  "kernelspec": {
   "display_name": "Python 3",
   "language": "python",
   "name": "python3"
  },
  "language_info": {
   "codemirror_mode": {
    "name": "ipython",
    "version": 3
   },
   "file_extension": ".py",
   "mimetype": "text/x-python",
   "name": "python",
   "nbconvert_exporter": "python",
   "pygments_lexer": "ipython3",
   "version": "3.6.5"
  }
 },
 "nbformat": 4,
 "nbformat_minor": 2
}
